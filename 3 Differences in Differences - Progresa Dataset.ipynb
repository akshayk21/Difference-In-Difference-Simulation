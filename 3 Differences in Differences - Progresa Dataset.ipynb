{
 "cells": [
  {
   "cell_type": "markdown",
   "metadata": {
    "ein.tags": "worksheet-0",
    "slideshow": {
     "slide_type": "-"
    }
   },
   "source": [
    "# Differences-in-Differences: Progresa Dataset"
   ]
  },
  {
   "cell_type": "markdown",
   "metadata": {
    "ein.tags": "worksheet-0",
    "slideshow": {
     "slide_type": "-"
    }
   },
   "source": [
    "## Introduction to the assignment\n",
    "\n",
    "For this assignment, you will be using data from the [Progresa\n",
    "program](http://en.wikipedia.org/wiki/Oportunidades), a government\n",
    "social assistance program in Mexico. This program, as well as the\n",
    "details of its impact, are described in the paper \"[School subsidies\n",
    "for the poor: evaluating the Mexican Progresa poverty\n",
    "program](http://www.sciencedirect.com/science/article/pii/S0304387803001858)\",\n",
    "by Paul Shultz (available on Canvas).\n",
    "\n",
    "The goal of this problem set is to implement some of the basic\n",
    "econometric techniques that you are learning in class to measure the\n",
    "impact of Progresa on secondary school enrollment rates, in particular\n",
    "differences-in-differences.  Your task is to **estimate the impact of\n",
    "_progresa_ subsidies on the school attendance**.  Note: this asks to\n",
    "estimate a causal effect.\n",
    "\n",
    "The timeline of the program was:\n",
    "\n",
    " * Baseline survey conducted in 1997\n",
    " * Intervention begins in 1998, \"Wave 1\" of data collected in 1998\n",
    " * \"Wave 2 of data\" collected in 1999\n",
    " * Evaluation ends in 2000, at which point the control villages were treated. \n",
    " \n",
    "The data are actual data collected to evaluate the impact of\n",
    "the Progresa program.  In this file, each row corresponds to an\n",
    "observation taken for a given child for a given year. There are two\n",
    "years of data (1997 and 1998), and just under 40,000 children who are\n",
    "surveyed in both years.  For each child-year observation, the\n",
    "following variables are collected:\n",
    "\n",
    "| Variable name | Description|\n",
    "|------|------|\n",
    "|year\t  |year in which data is collected\n",
    "|sex\t  |male = 1|\n",
    "|indig\t  |indigenous = 1|\n",
    "|dist_sec |nearest distance to a secondary school|\n",
    "|sc\t      |enrolled in school in year of survey (=1)|\n",
    "|grc      |grade enrolled|\n",
    "|fam_n    |family size|\n",
    "|min_dist |\tmin distance to an urban center|\n",
    "|dist_cap |\tmin distance to the capital|\n",
    "|poor     |\tpoor = \"pobre\", not poor = \"no pobre\"|\n",
    "|progresa |treatment = \"basal\", control = \"0\"|\n",
    "|hohedu\t  |years of schooling of head of household|\n",
    "|hohwag\t  |monthly wages of head of household|\n",
    "|welfare_index|\twelfare index used to classify poor|\n",
    "|hohsex\t|gender of head of household (male=1)|\n",
    "|hohage\t|age of head of household|\n",
    "|age\t|years old|\n",
    "|folnum\t|individual id|\n",
    "|village|\tvillage id|\n",
    "|sc97\t|enrolled in school in 1997 (=1) |"
   ]
  },
  {
   "cell_type": "code",
   "execution_count": 238,
   "metadata": {},
   "outputs": [],
   "source": [
    "#Importing the necessary libraries\n",
    "import numpy as np\n",
    "import matplotlib.pyplot as plt\n",
    "%matplotlib inline\n",
    "import statsmodels.api as sm\n",
    "import scipy as ap\n",
    "import pandas as pd\n",
    "import sklearn\n",
    "import os\n",
    "from scipy import stats\n",
    "from scipy.stats import binom\n",
    "from scipy.stats import bernoulli\n",
    "import random\n",
    "import statsmodels.formula.api as smf"
   ]
  },
  {
   "cell_type": "markdown",
   "metadata": {
    "ein.tags": "worksheet-0",
    "slideshow": {
     "slide_type": "-"
    }
   },
   "source": [
    "## Part 1: Descriptive analysis\n",
    "\n",
    "### 1.1\tSummary Statistics\n",
    "\n",
    "Report summary statistics (mean, standard deviation, and number of missings) for all of\n",
    "the demographic variables in the dataset (i.e., everything except\n",
    "year, folnum, village).  A central variable, _progresa_ is coded in a\n",
    "rather unintuitive way.  Find it's actual coding scheme (levels).  Does this fit with the documentation above?\n",
    "\n",
    "Present these in a single table alphabetized\n",
    "by variable name. Do NOT simply expect the grader to scroll through\n",
    "your output!"
   ]
  },
  {
   "cell_type": "code",
   "execution_count": 245,
   "metadata": {
    "autoscroll": false,
    "ein.hycell": false,
    "ein.tags": "worksheet-0",
    "slideshow": {
     "slide_type": "-"
    }
   },
   "outputs": [],
   "source": [
    "# Loading the data\n",
    "path = os.getcwd()\n",
    "#print(path)\n",
    "dataPath = path + \"/data/progresa_sample.csv.gz\"\n",
    "data = pd.read_csv(dataPath)"
   ]
  },
  {
   "cell_type": "code",
   "execution_count": 246,
   "metadata": {},
   "outputs": [],
   "source": [
    "#Encoding the data in the \"poor\" and the \"progresa\" columns as per the description given above\n",
    "data.poor = data['poor'].map({'no pobre': 0, 'pobre': 1})\n",
    "data.progresa = data['progresa'].map({'basal': 1, '0': 0})"
   ]
  },
  {
   "cell_type": "code",
   "execution_count": 251,
   "metadata": {},
   "outputs": [
    {
     "name": "stdout",
     "output_type": "stream",
     "text": [
      "\n",
      "\t\t\tAlphabetized Variable Names and their details are given below\n",
      "\n",
      "          Columns        Mean  Std Deviation  # of Missing Values\n",
      "15            age   11.366460       3.167744                    0\n",
      "7        dist_cap  147.674452      76.063134                    0\n",
      "2        dist_sec    2.418910       2.234109                    0\n",
      "5           fam_n    7.215715       2.352900                    0\n",
      "4             grc    3.963537       2.499063                 6549\n",
      "16          grc97    3.705372       2.572387                    0\n",
      "14         hohage   44.436717      11.620372                   10\n",
      "10         hohedu    2.768104       2.656106                    0\n",
      "13         hohsex    0.925185       0.263095                   20\n",
      "11         hohwag  586.985312     788.133664                    0\n",
      "1           indig    0.298324       0.457525                  300\n",
      "6        min_dist  103.447520      42.089441                    0\n",
      "8            poor    0.846498       0.360473                    0\n",
      "9        progresa    0.615663       0.486441                    0\n",
      "3              sc    0.819818       0.384342                 8453\n",
      "17           sc97    0.813922       0.389172                 3872\n",
      "0             sex    0.512211       0.499854                   24\n",
      "12  welfare_index  690.346564     139.491130                  210\n"
     ]
    }
   ],
   "source": [
    "#Dropping the columns not required\n",
    "data2 = data.drop(columns = [\"year\", \"folnum\", \"village\"], axis=1)\n",
    "mean = data2.mean(axis=0) #Calculating mean of each column\n",
    "std = data2.std(axis=0)   #Calculating std deviation of each column \n",
    "missingValues = data2.isna().sum() #Calculating number of missing values of each column\n",
    "\n",
    "#Collating data in a data frame\n",
    "info = pd.DataFrame({'Columns':mean.index, 'Mean':mean.values, \n",
    "                     'Std Deviation':std.values, '# of Missing Values':missingValues.values})\n",
    "\n",
    "print(\"\\n\\t\\t\\tAlphabetized Variable Names and their details are given below\\n\")\n",
    "info = info.sort_values(\"Columns\") #Sorting the data-frame alphabetically\n",
    "print(info)"
   ]
  },
  {
   "cell_type": "markdown",
   "metadata": {
    "ein.tags": "worksheet-0",
    "slideshow": {
     "slide_type": "-"
    }
   },
   "source": [
    "### 1.2 Differences at baseline?\n",
    "Now let's investigate the differences in baseline.  Are the baseline (1997) demographic characteristics **for the poor**\n",
    "different in treatment and control villages?\n",
    "\n",
    "I suggest you to use a T-Test to\n",
    "determine whether there is a statistically significant difference in\n",
    "the average values of each of the variables in the dataset. Focus only\n",
    "on the data from 1997 for poor.\n",
    "\n",
    "Present your results in a single table with the following columns and 14 (or so) rows:\n",
    "\n",
    "| Variable name | Average value (Treatment villages) | Average value (Control villages) | Difference (Treat - Control) | p-value |\n",
    "|------|------|------|------|------|\n",
    "|Male|?|?|?|?|\n"
   ]
  },
  {
   "cell_type": "code",
   "execution_count": 257,
   "metadata": {
    "autoscroll": false,
    "ein.hycell": false,
    "ein.tags": "worksheet-0",
    "slideshow": {
     "slide_type": "-"
    }
   },
   "outputs": [
    {
     "name": "stdout",
     "output_type": "stream",
     "text": [
      "\n",
      "\t\t\tVariable Names and their details are given below\n",
      "\n"
     ]
    },
    {
     "data": {
      "text/html": [
       "<div>\n",
       "<style scoped>\n",
       "    .dataframe tbody tr th:only-of-type {\n",
       "        vertical-align: middle;\n",
       "    }\n",
       "\n",
       "    .dataframe tbody tr th {\n",
       "        vertical-align: top;\n",
       "    }\n",
       "\n",
       "    .dataframe thead th {\n",
       "        text-align: right;\n",
       "    }\n",
       "</style>\n",
       "<table border=\"1\" class=\"dataframe\">\n",
       "  <thead>\n",
       "    <tr style=\"text-align: right;\">\n",
       "      <th></th>\n",
       "      <th>Variable Name</th>\n",
       "      <th>Average value (Treatment villages)</th>\n",
       "      <th>Average value (Control villages)</th>\n",
       "      <th>Difference (Treat - Control)</th>\n",
       "      <th>p-value</th>\n",
       "    </tr>\n",
       "  </thead>\n",
       "  <tbody>\n",
       "    <tr>\n",
       "      <th>1</th>\n",
       "      <td>sex</td>\n",
       "      <td>0.520268</td>\n",
       "      <td>0.506556</td>\n",
       "      <td>0.013713</td>\n",
       "      <td>0.01959</td>\n",
       "    </tr>\n",
       "    <tr>\n",
       "      <th>2</th>\n",
       "      <td>indig</td>\n",
       "      <td>0.316744</td>\n",
       "      <td>0.325306</td>\n",
       "      <td>-0.008562</td>\n",
       "      <td>0.11900</td>\n",
       "    </tr>\n",
       "    <tr>\n",
       "      <th>3</th>\n",
       "      <td>dist_sec</td>\n",
       "      <td>2.399648</td>\n",
       "      <td>2.400687</td>\n",
       "      <td>-0.001039</td>\n",
       "      <td>0.96807</td>\n",
       "    </tr>\n",
       "    <tr>\n",
       "      <th>4</th>\n",
       "      <td>sc</td>\n",
       "      <td>0.822697</td>\n",
       "      <td>0.815066</td>\n",
       "      <td>0.007631</td>\n",
       "      <td>0.09247</td>\n",
       "    </tr>\n",
       "    <tr>\n",
       "      <th>5</th>\n",
       "      <td>grc</td>\n",
       "      <td>3.709214</td>\n",
       "      <td>3.733653</td>\n",
       "      <td>-0.024439</td>\n",
       "      <td>0.39551</td>\n",
       "    </tr>\n",
       "    <tr>\n",
       "      <th>6</th>\n",
       "      <td>fam_n</td>\n",
       "      <td>7.281032</td>\n",
       "      <td>7.302939</td>\n",
       "      <td>-0.021907</td>\n",
       "      <td>0.42605</td>\n",
       "    </tr>\n",
       "    <tr>\n",
       "      <th>7</th>\n",
       "      <td>min_dist</td>\n",
       "      <td>107.395231</td>\n",
       "      <td>103.098348</td>\n",
       "      <td>4.296884</td>\n",
       "      <td>0.00000</td>\n",
       "    </tr>\n",
       "    <tr>\n",
       "      <th>8</th>\n",
       "      <td>dist_cap</td>\n",
       "      <td>151.801472</td>\n",
       "      <td>154.492095</td>\n",
       "      <td>-2.690622</td>\n",
       "      <td>0.00436</td>\n",
       "    </tr>\n",
       "    <tr>\n",
       "      <th>11</th>\n",
       "      <td>hohedu</td>\n",
       "      <td>2.726729</td>\n",
       "      <td>2.660982</td>\n",
       "      <td>0.065747</td>\n",
       "      <td>0.02496</td>\n",
       "    </tr>\n",
       "    <tr>\n",
       "      <th>12</th>\n",
       "      <td>hohwag</td>\n",
       "      <td>550.207086</td>\n",
       "      <td>580.694452</td>\n",
       "      <td>-30.487366</td>\n",
       "      <td>0.00029</td>\n",
       "    </tr>\n",
       "    <tr>\n",
       "      <th>13</th>\n",
       "      <td>welfare_index</td>\n",
       "      <td>656.810476</td>\n",
       "      <td>661.593513</td>\n",
       "      <td>-4.783037</td>\n",
       "      <td>0.00040</td>\n",
       "    </tr>\n",
       "    <tr>\n",
       "      <th>14</th>\n",
       "      <td>hohsex</td>\n",
       "      <td>0.925586</td>\n",
       "      <td>0.923387</td>\n",
       "      <td>0.002199</td>\n",
       "      <td>0.47954</td>\n",
       "    </tr>\n",
       "    <tr>\n",
       "      <th>15</th>\n",
       "      <td>hohage</td>\n",
       "      <td>43.631234</td>\n",
       "      <td>44.270717</td>\n",
       "      <td>-0.639483</td>\n",
       "      <td>0.00000</td>\n",
       "    </tr>\n",
       "    <tr>\n",
       "      <th>16</th>\n",
       "      <td>age</td>\n",
       "      <td>10.743825</td>\n",
       "      <td>10.785586</td>\n",
       "      <td>-0.041761</td>\n",
       "      <td>0.24741</td>\n",
       "    </tr>\n",
       "    <tr>\n",
       "      <th>19</th>\n",
       "      <td>grc97</td>\n",
       "      <td>3.709214</td>\n",
       "      <td>3.733653</td>\n",
       "      <td>-0.024439</td>\n",
       "      <td>0.39551</td>\n",
       "    </tr>\n",
       "    <tr>\n",
       "      <th>20</th>\n",
       "      <td>sc97</td>\n",
       "      <td>0.822697</td>\n",
       "      <td>0.815066</td>\n",
       "      <td>0.007631</td>\n",
       "      <td>0.09247</td>\n",
       "    </tr>\n",
       "  </tbody>\n",
       "</table>\n",
       "</div>"
      ],
      "text/plain": [
       "    Variable Name  Average value (Treatment villages)  \\\n",
       "1             sex                            0.520268   \n",
       "2           indig                            0.316744   \n",
       "3        dist_sec                            2.399648   \n",
       "4              sc                            0.822697   \n",
       "5             grc                            3.709214   \n",
       "6           fam_n                            7.281032   \n",
       "7        min_dist                          107.395231   \n",
       "8        dist_cap                          151.801472   \n",
       "11         hohedu                            2.726729   \n",
       "12         hohwag                          550.207086   \n",
       "13  welfare_index                          656.810476   \n",
       "14         hohsex                            0.925586   \n",
       "15         hohage                           43.631234   \n",
       "16            age                           10.743825   \n",
       "19          grc97                            3.709214   \n",
       "20           sc97                            0.822697   \n",
       "\n",
       "    Average value (Control villages)  Difference (Treat - Control)  p-value  \n",
       "1                           0.506556                      0.013713  0.01959  \n",
       "2                           0.325306                     -0.008562  0.11900  \n",
       "3                           2.400687                     -0.001039  0.96807  \n",
       "4                           0.815066                      0.007631  0.09247  \n",
       "5                           3.733653                     -0.024439  0.39551  \n",
       "6                           7.302939                     -0.021907  0.42605  \n",
       "7                         103.098348                      4.296884  0.00000  \n",
       "8                         154.492095                     -2.690622  0.00436  \n",
       "11                          2.660982                      0.065747  0.02496  \n",
       "12                        580.694452                    -30.487366  0.00029  \n",
       "13                        661.593513                     -4.783037  0.00040  \n",
       "14                          0.923387                      0.002199  0.47954  \n",
       "15                         44.270717                     -0.639483  0.00000  \n",
       "16                         10.785586                     -0.041761  0.24741  \n",
       "19                          3.733653                     -0.024439  0.39551  \n",
       "20                          0.815066                      0.007631  0.09247  "
      ]
     },
     "execution_count": 257,
     "metadata": {},
     "output_type": "execute_result"
    }
   ],
   "source": [
    "#Subsetting the dataset for the year 1997 and the poor population\n",
    "data3 = data[(data[\"year\"] == 97) & (data[\"poor\"] == 1)]\n",
    "\n",
    "#Dropping the na values; This is required because the p-value is \n",
    "#not calculated if we take into account the NaN values\n",
    "data3 = data3.dropna(axis = 0, how = 'any')\n",
    "\n",
    "#Calculating the mean of all the columns for the treatment group\n",
    "avgTreatment = data3[(data3[\"progresa\"]==1)].mean(axis=0)\n",
    "\n",
    "#Calculating the mean of all the columns for the control group\n",
    "avgControl = data3[(data3[\"progresa\"]==0)].mean(axis=0)\n",
    "\n",
    "#Calculating the p-values of all the columns for both the treatment as well as the control group\n",
    "#equal variance parameter = False, because the poor families in 1997 were not necesserily the same \n",
    "#poor families in 1998\n",
    "pValues = stats.ttest_ind(data3[data3[\"progresa\"]==1], data3[data3[\"progresa\"]==0], equal_var=False).pvalue\n",
    "\n",
    "#Collating into a data frame\n",
    "baseline = pd.DataFrame({'Variable Name':avgTreatment.index, \n",
    "                         'Average value (Treatment villages)':avgTreatment.values, \n",
    "                         'Average value (Control villages)':avgControl.values})\n",
    "\n",
    "#Calculating the difference in values of the treatment and the control group\n",
    "baseline['Difference (Treat - Control)'] = baseline.iloc[:,1] - baseline.iloc[:,2]\n",
    "baseline['p-value'] = np.round(pValues,5)\n",
    "\n",
    "#Getting rid of the unwanted column names\n",
    "baseline = baseline[~baseline['Variable Name'].isin(['year', 'village', 'poor', 'folnum', 'progresa'])]\n",
    "\n",
    "print(\"\\n\\t\\t\\tVariable Names and their details are given below\\n\")\n",
    "baseline"
   ]
  },
  {
   "cell_type": "markdown",
   "metadata": {
    "ein.tags": "worksheet-0",
    "slideshow": {
     "slide_type": "-"
    }
   },
   "source": [
    "### 1.3 Interpretation\n",
    "\n",
    "* A: Are there statistically significant differences between treatment and control villages as baseline? \n",
    "* B: Why does it matter if there are differences at baseline?\n",
    "* C: What does this imply about how to measure the impact of the treatment?"
   ]
  },
  {
   "cell_type": "markdown",
   "metadata": {},
   "source": [
    "The t test, under the assumption that the dependent variable fits a normal distribution, is used to determine whether there is a significant difference between the means of two groups. From the above table we can infer that:\n",
    "\n",
    "* P-Values of only a few variables (sex, min_dist, dist_cap, hohedu, hohwag, welfare_index, hohage) is less that 0.05. This means that the difference in means of these variables when considering the treatment and the control groups is statistically significant and is not by chance. The opposite is true for the variables for which the p-value > 0.05.\n",
    "\n",
    "* If there are differences at the baseline this is indicative of the fact that the "
   ]
  },
  {
   "cell_type": "markdown",
   "metadata": {
    "ein.tags": "worksheet-0",
    "slideshow": {
     "slide_type": "-"
    }
   },
   "source": [
    "### 1.4 Graphical exploration, part 1\n",
    "\n",
    "For each level of household head education, compute the average\n",
    "enrollment rate in 1997. Create a scatterplot that shows this\n",
    "relationship. What do you notice?"
   ]
  },
  {
   "cell_type": "code",
   "execution_count": 260,
   "metadata": {
    "autoscroll": false,
    "ein.hycell": false,
    "ein.tags": "worksheet-0",
    "slideshow": {
     "slide_type": "-"
    }
   },
   "outputs": [
    {
     "data": {
      "image/png": "[encoded data removed]",
      "text/plain": [
       "<Figure size 432x288 with 1 Axes>"
      ]
     },
     "metadata": {
      "needs_background": "light"
     },
     "output_type": "display_data"
    }
   ],
   "source": [
    "#flights_df.groupby([\"month\",\"day\"], as_index=False).agg({\"dep_delay\":\"mean\",\"arr_delay\":\"mean\"})\n",
    "#data4 = \n",
    "#data.groupby([\"hohedu\"]).agg({\"sc97\":mean})\n",
    "x = data.groupby(['hohedu'])['sc97'].mean()\n",
    "y = x.values\n",
    "x = x.index\n",
    "plt.scatter(x,y)\n",
    "\n",
    "plt.plot(data.groupby(['hohedu'])['sc97'].mean(), alpha=0.1)\n",
    "plt.xlabel(\"Years of schooling of head of household\")\n",
    "plt.ylabel(\"Average enrollment rate in 1997\")\n",
    "plt.show()"
   ]
  },
  {
   "cell_type": "markdown",
   "metadata": {
    "ein.tags": "worksheet-0",
    "slideshow": {
     "slide_type": "-"
    }
   },
   "source": [
    "* From above graph we can conclude that there is a steady increase in the enrollment of the children in 1997 when the head of the household has studied for a longer time. However, when the head of the households have had about 20 years of schooling, the avg enrollment rate for the children in that household drops significantly.\n",
    "\n",
    "* A reason can be that with increased education of the head of household they tend to earn a lot more, and the children in that household are more likely to be homeschooled and hence the low enrollment rates."
   ]
  },
  {
   "cell_type": "markdown",
   "metadata": {
    "ein.tags": "worksheet-0",
    "slideshow": {
     "slide_type": "-"
    }
   },
   "source": [
    "### 1.5 Graphical exploration, part 2\n",
    "\n",
    "Create a histogram of village enrollment rates **among poor households\n",
    "in treated villages**, before and after treatment.  Specifically, for\n",
    "each village, calculate the average rate of enrollment of poor\n",
    "households in treated villages in 1997, then compute the average rate\n",
    "of enrollment of poor households in treated villages in 1998. Create\n",
    "two separate histograms showing the distribution of these average\n",
    "enrollments rates, one histogram for 1997 and one histogram for 1998. \n",
    "On each histogram, draw a vertical line that intersects the\n",
    "x-axis at the average value (across all households). Does there appear\n",
    "to be a difference? Is this difference statistically significant?"
   ]
  },
  {
   "cell_type": "code",
   "execution_count": 265,
   "metadata": {
    "autoscroll": false,
    "ein.hycell": false,
    "ein.tags": "worksheet-0",
    "slideshow": {
     "slide_type": "-"
    }
   },
   "outputs": [
    {
     "data": {
      "image/png": "[encoded data removed]",
      "text/plain": [
       "<Figure size 432x288 with 1 Axes>"
      ]
     },
     "metadata": {
      "needs_background": "light"
     },
     "output_type": "display_data"
    }
   ],
   "source": [
    "poorTreated97 = data[(data[\"year\"] == 97) & (data[\"poor\"] == 1) & (data[\"progresa\"]==1)]\n",
    "\n",
    "x97 = poorTreated97.groupby(['village'])['sc'].mean()\n",
    "plt.hist(x97, bins=40)\n",
    "plt.axvline(poorTreated97.sc.mean(), color='red')\n",
    "plt.text(poorTreated97.sc.mean(), 5.5, 'Average',rotation=90)\n",
    "plt.title(\"Histogram of avg enrollment rates amongst Mexican poor (treatment group) in 1997\")\n",
    "plt.xlabel(\"Enrollment Rates\")\n",
    "plt.show()"
   ]
  },
  {
   "cell_type": "code",
   "execution_count": 266,
   "metadata": {},
   "outputs": [
    {
     "data": {
      "image/png": "[encoded data removed]",
      "text/plain": [
       "<Figure size 432x288 with 1 Axes>"
      ]
     },
     "metadata": {
      "needs_background": "light"
     },
     "output_type": "display_data"
    }
   ],
   "source": [
    "poorTreated98 = data[(data[\"year\"] == 98) & (data[\"poor\"] == 1) & (data[\"progresa\"]==1)]\n",
    "\n",
    "x98 = poorTreated98.groupby(['village'])['sc'].mean()\n",
    "plt.hist(x98, bins=40)\n",
    "plt.axvline(poorTreated98.sc.mean(), color='red')\n",
    "plt.text(poorTreated98.sc.mean(), 5.5, 'Average',rotation=90)\n",
    "plt.title(\"Histogram of avg enrollment rates amongst Mexican poor (treatment group) in 1998\")\n",
    "plt.xlabel(\"Enrollment Rates\")\n",
    "plt.show()"
   ]
  },
  {
   "cell_type": "markdown",
   "metadata": {
    "ein.tags": "worksheet-0",
    "slideshow": {
     "slide_type": "-"
    }
   },
   "source": [
    "From above we can conclude that:\n",
    "* The enrollment rate amongst the poor children follow a skewed normal distribution for both the years.\n",
    "* Also, it seems like the enrollment rate has increased in 1998 than as compared to 1997 as demonstrated by the left skewed plot of the enrollment rates histogram\n",
    "* This is indicative of the fact that within the treatment group the number of enrollments went up in the Progresea program"
   ]
  },
  {
   "cell_type": "markdown",
   "metadata": {
    "ein.tags": "worksheet-0",
    "slideshow": {
     "slide_type": "-"
    }
   },
   "source": [
    "## Part 2: Measuring Impact\n",
    "\n",
    "Our goal is to estimate the causal impact of the PROGRESA program on\n",
    "the social and economic outcomes of individuals in Mexico. We will\n",
    "focus on the impact of the program on the poor (those with\n",
    "poor=='pobre'), since only the poor were eligible to receive the\n",
    "PROGRESA assistance.\n",
    "\n",
    "### 2.1 Cross-Sectional Estimator: T-test\n",
    "\n",
    "Begin by estimating the impact of Progresa using \"simple differences.\"\n",
    "Restricting yourself to data from 1998 (after treatment), calculate\n",
    "the average enrollment rate among **poor** households in the Treatment\n",
    "villages and the average enrollment rate among **poor** households in\n",
    "the control villages. Use a t-test to determine if this difference is\n",
    "statistically significant. What do you conclude?"
   ]
  },
  {
   "cell_type": "code",
   "execution_count": 300,
   "metadata": {
    "autoscroll": false,
    "ein.hycell": false,
    "ein.tags": "worksheet-0",
    "slideshow": {
     "slide_type": "-"
    }
   },
   "outputs": [
    {
     "name": "stdout",
     "output_type": "stream",
     "text": [
      "Average Enrollment for Treatment villages in 1998: 0.84926\n",
      "Average Enrollment for Control Villages in 1998: 0.81092\n",
      "Difference in Average: (Treat-Control): 0.03833\n"
     ]
    },
    {
     "data": {
      "text/plain": [
       "Ttest_indResult(statistic=8.101650305300375, pvalue=5.656455605358843e-16)"
      ]
     },
     "execution_count": 300,
     "metadata": {},
     "output_type": "execute_result"
    }
   ],
   "source": [
    "# Year 1998; Poor People; Treatment group\n",
    "poorTreated98 = data[(data[\"year\"] == 98) & (data[\"poor\"] == 1) & (data[\"progresa\"]==1)].dropna()\n",
    "\n",
    "# Year 1998; Poor People; Control group\n",
    "poorControl98 = data[(data[\"year\"] == 98) & (data[\"poor\"] == 1) & (data[\"progresa\"]==0)].dropna()\n",
    "\n",
    "#Calculating the t-statistic\n",
    "print('Average Enrollment for Treatment villages in 1998:', np.round(poorTreated98.sc.mean(),5))\n",
    "print('Average Enrollment for Control Villages in 1998:', np.round(poorControl98.sc.mean(),5))\n",
    "print('Difference in Average: (Treat-Control):', np.round(poorTreated98.sc.mean()-poorControl98.sc.mean(),5))\n",
    "stats.ttest_ind(poorTreated98.sc.values, poorControl98.sc.values)"
   ]
  },
  {
   "cell_type": "markdown",
   "metadata": {
    "ein.tags": "worksheet-0",
    "slideshow": {
     "slide_type": "-"
    }
   },
   "source": [
    "* The p-value is significantly less than 0.05 which shows that the difference is statisitcally significant\n",
    "* Thus, this proves that there is an improvement in enrollment rate post treatment in 1998 amongst the poor Mexicans"
   ]
  },
  {
   "cell_type": "markdown",
   "metadata": {
    "ein.tags": "worksheet-0",
    "slideshow": {
     "slide_type": "-"
    }
   },
   "source": [
    "### 2.2 Cross-Sectional Estimator: Regression\n",
    "\n",
    "Estimate the effects of Progresa on enrollment using a regression\n",
    "model, by regressing the 1998 enrollment rates **of the poor** on\n",
    "treatment assignment.  Do not include any additional control\n",
    "variables.\n",
    "Discuss the following:\n",
    "\n",
    "* Based on this model, how much did Progresa increase the likelihood of a child enrolling?\n",
    "* How does your regression estimate compare to your t-test estimate from part 2.1?\n",
    "* Based on this regression model, can we reject the null hypothesis that the treatment effects are zero? \n",
    "* What is the counterfactual assumption underlying this regression?\n",
    "\n",
    "Note: I recommend to use statsmodels.formula.api as this allows to use\n",
    "convenient R-style formulas and provedes nice summaries of the results."
   ]
  },
  {
   "cell_type": "code",
   "execution_count": 301,
   "metadata": {
    "autoscroll": false,
    "ein.hycell": false,
    "ein.tags": "worksheet-0",
    "slideshow": {
     "slide_type": "-"
    }
   },
   "outputs": [
    {
     "name": "stdout",
     "output_type": "stream",
     "text": [
      "                            OLS Regression Results                            \n",
      "==============================================================================\n",
      "Dep. Variable:                     sc   R-squared:                       0.003\n",
      "Model:                            OLS   Adj. R-squared:                  0.003\n",
      "Method:                 Least Squares   F-statistic:                     69.87\n",
      "Date:                Fri, 01 Mar 2019   Prob (F-statistic):           6.64e-17\n",
      "Time:                        00:23:32   Log-Likelihood:                -11926.\n",
      "No. Observations:               27450   AIC:                         2.386e+04\n",
      "Df Residuals:                   27448   BIC:                         2.387e+04\n",
      "Df Model:                           1                                         \n",
      "Covariance Type:            nonrobust                                         \n",
      "==============================================================================\n",
      "                 coef    std err          t      P>|t|      [0.025      0.975]\n",
      "------------------------------------------------------------------------------\n",
      "Intercept      0.8076      0.004    220.676      0.000       0.800       0.815\n",
      "progresa       0.0388      0.005      8.359      0.000       0.030       0.048\n",
      "==============================================================================\n",
      "Omnibus:                     7638.939   Durbin-Watson:                   1.734\n",
      "Prob(Omnibus):                  0.000   Jarque-Bera (JB):            15767.534\n",
      "Skew:                          -1.767   Prob(JB):                         0.00\n",
      "Kurtosis:                       4.140   Cond. No.                         3.01\n",
      "==============================================================================\n",
      "\n",
      "Warnings:\n",
      "[1] Standard Errors assume that the covariance matrix of the errors is correctly specified.\n"
     ]
    }
   ],
   "source": [
    "dat = data[(data[\"year\"] == 98) & (data[\"poor\"] == 1)]\n",
    "model = smf.ols(formula = 'sc ~ progresa', data=dat).fit()\n",
    "print(model.summary())"
   ]
  },
  {
   "cell_type": "markdown",
   "metadata": {
    "ein.tags": "worksheet-0",
    "slideshow": {
     "slide_type": "-"
    }
   },
   "source": [
    "From the above test we can conclude that, \n",
    "* The program (treatment) has increased the likelihood of enrollment by 3.8% (as indicated by the intercept). Note that this is consistent with the difference in the mean values of the treatment and the control group in the previous part.\n",
    "* The t-test values of this part is similar to the one calculated in the previous part\n",
    "* Based on this model, we can reject the null hypothesis (as p-value << 0.05), stating that there is no effect of the treatment.\n",
    "* An important assumptions is the fact that the means for both treatment and the control groups will be the same implying that essentially both the groups are actually the same."
   ]
  },
  {
   "cell_type": "markdown",
   "metadata": {
    "ein.tags": "worksheet-0",
    "slideshow": {
     "slide_type": "-"
    }
   },
   "source": [
    "### 2.3 Multiple Regression\n",
    "\n",
    "Re-run the above regression estimated but this time include a set of\n",
    "relevant control variables. Include, for instance, age, distance to a secondary\n",
    "school, gender, education of household head, welfare index,\n",
    "indigenous, etc.\n",
    "\n",
    "* How do the controls affect the point estimate of treatment effect?\n",
    "* How do the controls affect the standard error on the treatment effect? \n",
    "* How do you interpret the differences (or similarities) between your estimates of 2.2 and 2.3?"
   ]
  },
  {
   "cell_type": "code",
   "execution_count": 302,
   "metadata": {
    "autoscroll": false,
    "ein.hycell": false,
    "ein.tags": "worksheet-0",
    "slideshow": {
     "slide_type": "-"
    }
   },
   "outputs": [
    {
     "name": "stdout",
     "output_type": "stream",
     "text": [
      "                            OLS Regression Results                            \n",
      "==============================================================================\n",
      "Dep. Variable:                     sc   R-squared:                       0.272\n",
      "Model:                            OLS   Adj. R-squared:                  0.272\n",
      "Method:                 Least Squares   F-statistic:                     1459.\n",
      "Date:                Fri, 01 Mar 2019   Prob (F-statistic):               0.00\n",
      "Time:                        00:23:40   Log-Likelihood:                -7592.2\n",
      "No. Observations:               27340   AIC:                         1.520e+04\n",
      "Df Residuals:                   27332   BIC:                         1.527e+04\n",
      "Df Model:                           7                                         \n",
      "Covariance Type:            nonrobust                                         \n",
      "==============================================================================\n",
      "                 coef    std err          t      P>|t|      [0.025      0.975]\n",
      "------------------------------------------------------------------------------\n",
      "Intercept      1.4673      0.010    141.211      0.000       1.447       1.488\n",
      "age           -0.0657      0.001    -96.165      0.000      -0.067      -0.064\n",
      "dist_sec      -0.0114      0.001    -13.078      0.000      -0.013      -0.010\n",
      "sex            0.0305      0.004      7.879      0.000       0.023       0.038\n",
      "hohedu         0.0084      0.001     10.787      0.000       0.007       0.010\n",
      "indig          0.0289      0.004      6.615      0.000       0.020       0.037\n",
      "min_dist       0.0006   4.87e-05     12.636      0.000       0.001       0.001\n",
      "progresa       0.0329      0.004      8.252      0.000       0.025       0.041\n",
      "==============================================================================\n",
      "Omnibus:                     2928.538   Durbin-Watson:                   1.726\n",
      "Prob(Omnibus):                  0.000   Jarque-Bera (JB):             3969.316\n",
      "Skew:                          -0.926   Prob(JB):                         0.00\n",
      "Kurtosis:                       3.228   Cond. No.                         621.\n",
      "==============================================================================\n",
      "\n",
      "Warnings:\n",
      "[1] Standard Errors assume that the covariance matrix of the errors is correctly specified.\n"
     ]
    }
   ],
   "source": [
    "model = smf.ols(formula = 'sc ~ age + dist_sec + sex + hohedu + indig + min_dist + progresa', data=dat).fit()\n",
    "print(model.summary())"
   ]
  },
  {
   "cell_type": "markdown",
   "metadata": {
    "ein.tags": "worksheet-0",
    "slideshow": {
     "slide_type": "-"
    }
   },
   "source": [
    "From this model we can conclude that: \n",
    "* The control variables such as age, dist_sec etc, reduce the estimate point of treatment effects from 3.83% to 3.3%\n",
    "* The standard error is reduced from 0.005 to 0.004\n",
    "* In this model as compared to the previous one, we see the reduction in point estimate of the progresa variable. However, still it is relatively small and hence other variables are not able to explain the outcome very well."
   ]
  },
  {
   "cell_type": "markdown",
   "metadata": {
    "ein.tags": "worksheet-0",
    "slideshow": {
     "slide_type": "-"
    }
   },
   "source": [
    "### 2.4 Difference-in-Difference, version 1 (tabular)\n",
    "\n",
    "Thus far, we have computed the effects of Progresa by estimating the\n",
    "difference in 1998 enrollment rates across villages. An alternative\n",
    "approach would be to compute the treatment effect using a\n",
    "difference-in-differences framework.\n",
    "\n",
    "Begin by estimating the average treatment effects of the program for poor households using data from 1997 and 1998. Specifically, calculate:\n",
    "\n",
    "a) the difference (between 1997 and 1998) in enrollment rates among poor households in treated villages\n",
    "\n",
    "b) the difference (between 1997 and 1998) in enrollment rates among poor households in control villages.\n",
    "\n",
    "c) The difference between these two differences is your estimate.\n",
    "\n",
    "* What is your estimate of the impact, and how does it compare to your earlier (simple difference) results?\n",
    "\n",
    "* What is the counterfactual assumption underlying this estimate? \n"
   ]
  },
  {
   "cell_type": "code",
   "execution_count": 303,
   "metadata": {
    "autoscroll": false,
    "ein.hycell": false,
    "ein.tags": "worksheet-0",
    "slideshow": {
     "slide_type": "-"
    }
   },
   "outputs": [],
   "source": [
    "# Year 1997; Poor People; Treatment group\n",
    "poorTreated97 = data[(data[\"year\"] == 97) & (data[\"poor\"] == 1) & (data[\"progresa\"]==1)].dropna()\n",
    "\n",
    "# Year 1997; Poor People; Control group\n",
    "poorControl97 = data[(data[\"year\"] == 97) & (data[\"poor\"] == 1) & (data[\"progresa\"]==0)].dropna()\n",
    "\n",
    "# Year 1998; Poor People; Treatment group\n",
    "poorTreated98 = data[(data[\"year\"] == 98) & (data[\"poor\"] == 1) & (data[\"progresa\"]==1)].dropna()\n",
    "\n",
    "# Year 1998; Poor People; Control group\n",
    "poorControl98 = data[(data[\"year\"] == 98) & (data[\"poor\"] == 1) & (data[\"progresa\"]==0)].dropna()"
   ]
  },
  {
   "cell_type": "code",
   "execution_count": 304,
   "metadata": {},
   "outputs": [
    {
     "name": "stdout",
     "output_type": "stream",
     "text": [
      "\n",
      "Difference in Treatment groups of 1997 and 1998 is 0.02656050742564997\n",
      "\n",
      "Difference in Control groups of 1997 and 1998 is -0.004142465805002105\n",
      "\n",
      "Difference in Difference is 0.030702973230652075\n"
     ]
    }
   ],
   "source": [
    "diffTreatment = poorTreated98.sc.mean() - poorTreated97.sc.mean()\n",
    "diffControl = poorControl98.sc.mean() - poorControl97.sc.mean()\n",
    "print(\"\\nDifference in Treatment groups of 1997 and 1998 is\", diffTreatment)\n",
    "print(\"\\nDifference in Control groups of 1997 and 1998 is\", diffControl)\n",
    "print(\"\\nDifference in Difference is\", diffTreatment - diffControl)"
   ]
  },
  {
   "cell_type": "markdown",
   "metadata": {
    "ein.tags": "worksheet-0",
    "slideshow": {
     "slide_type": "-"
    }
   },
   "source": [
    "* The difference in difference value comes out to be 0.0307 which is slightly similar to the controls estimate of 0.0329 but much lower than than the simple estimate 0.0383 as depicted above\n",
    "\n",
    "* The assumption is that the difference between the control and the treatment groups represents the counterfactual change in the treatment group if there were no treatment."
   ]
  },
  {
   "cell_type": "markdown",
   "metadata": {
    "ein.tags": "worksheet-0",
    "slideshow": {
     "slide_type": "-"
    }
   },
   "source": [
    "### 2.5 Difference-in-Difference, version 2 (regression)\n",
    "\n",
    "Now use a regression specification to estimate the average treatment\n",
    "effects of the program in a difference-in-differences\n",
    "framework. Include at least 5 control variables.\n",
    "\n",
    "* What is your estimate of the impact of Progresa? Be very specific in\n",
    "  interpreting your coefficients and standard errors, and make sure to\n",
    "  specify exactly what units you are measuring and estimating.\n",
    "\n",
    "* How do these estimates of the treatment effect compare to the\n",
    "  estimates based on the simple difference?\n",
    "\n",
    "* How do these estimates compare to the difference-in-difference\n",
    "  estimates from 2.4 above? What accounts for these differences?\n",
    "\n",
    "* What is the counterfactual assumption underlying this regression? "
   ]
  },
  {
   "cell_type": "code",
   "execution_count": 308,
   "metadata": {
    "autoscroll": false,
    "ein.hycell": false,
    "ein.tags": "worksheet-0",
    "slideshow": {
     "slide_type": "-"
    }
   },
   "outputs": [
    {
     "name": "stdout",
     "output_type": "stream",
     "text": [
      "                            OLS Regression Results                            \n",
      "==============================================================================\n",
      "Dep. Variable:                     sc   R-squared:                       0.279\n",
      "Model:                            OLS   Adj. R-squared:                  0.279\n",
      "Method:                 Least Squares   F-statistic:                     2810.\n",
      "Date:                Fri, 01 Mar 2019   Prob (F-statistic):               0.00\n",
      "Time:                        00:24:46   Log-Likelihood:                -16717.\n",
      "No. Observations:               58165   AIC:                         3.345e+04\n",
      "Df Residuals:                   58156   BIC:                         3.353e+04\n",
      "Df Model:                           8                                         \n",
      "Covariance Type:            nonrobust                                         \n",
      "=================================================================================\n",
      "                    coef    std err          t      P>|t|      [0.025      0.975]\n",
      "---------------------------------------------------------------------------------\n",
      "Intercept         1.4940      0.006    231.606      0.000       1.481       1.507\n",
      "progresa          0.0043      0.004      1.137      0.256      -0.003       0.012\n",
      "year              0.0270      0.004      6.204      0.000       0.018       0.036\n",
      "progresa:year     0.0314      0.006      5.685      0.000       0.021       0.042\n",
      "age              -0.0655      0.000   -144.433      0.000      -0.066      -0.065\n",
      "dist_sec         -0.0110      0.001    -17.788      0.000      -0.012      -0.010\n",
      "sex               0.0339      0.003     12.672      0.000       0.029       0.039\n",
      "hohedu            0.0076      0.001     14.110      0.000       0.007       0.009\n",
      "indig             0.0496      0.003     17.304      0.000       0.044       0.055\n",
      "==============================================================================\n",
      "Omnibus:                     5523.777   Durbin-Watson:                   1.484\n",
      "Prob(Omnibus):                  0.000   Jarque-Bera (JB):             7269.312\n",
      "Skew:                          -0.864   Prob(JB):                         0.00\n",
      "Kurtosis:                       3.113   Cond. No.                         70.8\n",
      "==============================================================================\n",
      "\n",
      "Warnings:\n",
      "[1] Standard Errors assume that the covariance matrix of the errors is correctly specified.\n"
     ]
    }
   ],
   "source": [
    "dat = data[data['poor']==1]\n",
    "\n",
    "#categoriziing year; 97 is categorized as 0 and 98 as 1\n",
    "dat.year = dat['year'].map({97: 0, 98: 1})\n",
    "\n",
    "model = smf.ols(formula ='sc ~ progresa + year + progresa:year + age + dist_sec + sex + hohedu + indig', \n",
    "                data = dat, missing='drop').fit()\n",
    "print(model.summary())\n",
    "#dat.head()\n",
    "#dat.year"
   ]
  },
  {
   "cell_type": "markdown",
   "metadata": {
    "ein.tags": "worksheet-0",
    "slideshow": {
     "slide_type": "-"
    }
   },
   "source": [
    "* Estimate of impact with the controls and interaction terms comes out to 0.0314 with a p-value less than 0.05 which shows that it is statistically significant. Also, if we look at progresa without interaction, the estimate is 0.0043 and it is not significant as well since p-value = 0.256 which is larger than 0.05. \n",
    "\n",
    "* In the previous estimates, we only considered the post-progresa data and ignored the pre-progresea data. In this estimate, we notice the difference in treatment and control in both pre and post progresa.\n",
    "\n",
    "* There is a little decrease in the progresea estimate from 0.0329 in the previous case to 0.0314 in this case. This can also be explained due to the other variables explaining a little effect in the regression.\n",
    "\n",
    "* The assumption is that the difference between the control and the treatment groups represents the counterfactual change in the treatment group if there were no treatment.\n",
    "\n"
   ]
  },
  {
   "cell_type": "markdown",
   "metadata": {
    "ein.tags": "worksheet-0",
    "slideshow": {
     "slide_type": "-"
    }
   },
   "source": [
    "### 2.6 Summary\n",
    "\n",
    "* Based on all the analysis you have undertaken to date, do you\n",
    "  believe that Progresa had a causal impact on the enrollment rates of\n",
    "  poor households in Mexico?  Explain by referring to the methods and\n",
    "  results above."
   ]
  },
  {
   "cell_type": "markdown",
   "metadata": {
    "ein.tags": "worksheet-0",
    "slideshow": {
     "slide_type": "-"
    }
   },
   "source": [
    "Based on the baove analysis it is safe to infer that the program progresa did have an effect, although not as significant as one might expect, on the enrollemnt rates of poor children in Mexico. \n",
    "\n",
    "Although this difference is not significant, yet beased on the results we got using the various methods, we can say that Progresa had an impact on the enrollment rates of children in school belonging to poor families. However, we should be wary of the fact that the treatment is received only by the ones who need it."
   ]
  }
 ],
 "metadata": {
  "kernelspec": {
   "display_name": "Python 3",
   "language": "python",
   "name": "python3"
  },
  "language_info": {
   "codemirror_mode": {
    "name": "ipython",
    "version": 3
   },
   "file_extension": ".py",
   "mimetype": "text/x-python",
   "name": "python",
   "nbconvert_exporter": "python",
   "pygments_lexer": "ipython3",
   "version": "3.7.1"
  },
  "name": "ps03_progresa.ipynb"
 },
 "nbformat": 4,
 "nbformat_minor": 1
}
